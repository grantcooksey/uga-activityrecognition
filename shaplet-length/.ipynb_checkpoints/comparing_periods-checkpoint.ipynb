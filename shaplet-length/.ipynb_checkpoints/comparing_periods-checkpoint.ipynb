{
 "cells": [
  {
   "cell_type": "markdown",
   "metadata": {},
   "source": [
    "# Comparison between different users\n",
    "\n",
    "This notebook is used to compare and analyze different methods of determining the length of a shaplet using the peak method.\n",
    "\n",
    "Assumptions\n",
    "* Each shaplet has a single peak far greater than the rest."
   ]
  },
  {
   "cell_type": "code",
   "execution_count": 2,
   "metadata": {
    "collapsed": true
   },
   "outputs": [],
   "source": [
    "import numpy as np\n",
    "import pandas as pd\n",
    "import matplotlib.pyplot as plt\n",
    "%matplotlib qt\n",
    "import peakutils"
   ]
  },
  {
   "cell_type": "markdown",
   "metadata": {},
   "source": [
    "## Peak Detection\n",
    "This peak detection algorithm calculates peaks based on a given timeseries array and a threshold.  Refer to the [documentation](http://pythonhosted.org/PeakUtils/).  This method uses the peak detection algorithm to find the average distance between peaks.  If no peaks are found, the method returns nan.  \n",
    "\n",
    "**Accuracy of the peak detection algorithm is assumed but not verified.  We should replace this with our custom peak detection algorithm**"
   ]
  },
  {
   "cell_type": "code",
   "execution_count": 3,
   "metadata": {
    "collapsed": true
   },
   "outputs": [],
   "source": [
    "def estimate_period(df, threshold):\n",
    "    indexes = peakutils.indexes(df['x'].values, thres=threshold, min_dist=10)\n",
    "    indexes = pd.Series(indexes)\n",
    "    #peaks = df.iloc[indexes]\n",
    "    if indexes.index.size != 0:\n",
    "        diff = indexes.drop(0) - indexes.shift(1).drop(0)\n",
    "        return diff.mean()\n",
    "    return float('nan')\n",
    "    #plt.close()\n",
    "    #plt.plot(df['x'])\n",
    "    #plt.plot(peaks['x'], 'r+')"
   ]
  },
  {
   "cell_type": "markdown",
   "metadata": {},
   "source": [
    "Users who have data on walking: ['/102', '/103', '/107', '/110', '/116', '/118', '/121', '/122', '/125', '/131', '/133', '/140', '/143', '/144', '/148', '/149', '/153', '/159', '/161', '/166', '/171', '/174', '/179', '/181', '/182', '/184', '/188', '/189', '/192']\n",
    "\n",
    "**Make sure your data file is in the right location on your local machine.**\n"
   ]
  },
  {
   "cell_type": "code",
   "execution_count": 4,
   "metadata": {
    "collapsed": false
   },
   "outputs": [],
   "source": [
    "walking116 = pd.read_csv('../../data/116/13_treadmill_3mph_0%.csv', names=[\"tick\", \"timestamp\",\n",
    "                                             \"activity\", \"x\", \"y\",\n",
    "                                             \"z\", \"user\"], index_col=False)\n",
    "walking125 = pd.read_csv('../../data/125/13_treadmill_3mph_0%.csv', names=[\"tick\", \"timestamp\",\n",
    "                                             \"activity\", \"x\", \"y\",\n",
    "                                             \"z\", \"user\"], index_col=False)"
   ]
  },
  {
   "cell_type": "markdown",
   "metadata": {},
   "source": [
    "## Cleaning data\n",
    "I trimmed the beggining and end of each timeseries due to bogus values.  Points were chosen visually."
   ]
  },
  {
   "cell_type": "code",
   "execution_count": 5,
   "metadata": {
    "collapsed": true
   },
   "outputs": [],
   "source": [
    "walking116 = walking116.iloc[2800:21000]\n",
    "walking125 = walking125.iloc[2500:20000]\n",
    "walking116 = walking116.reset_index()\n",
    "walking125 = walking125.reset_index()"
   ]
  },
  {
   "cell_type": "markdown",
   "metadata": {},
   "source": [
    "## Single Peak Detection\n",
    "Our parameters are the time series to search, the window size, and the threshold to examine.  To improve accuracy, we are using a sliding window to improve the accuracy the peak detection algorithm.  Rather than find peaks over the entire data set, we use a fixed window length and calculate the average peak distance as the window slides over the time series from beginning to end. The function returns a list of lists of average peaks from the upper half and lower half of the time series.\n",
    "\n",
    "Parameters \n",
    "* timeseries(pandas series) - index starts at 0 and increases by 1.\n",
    "* threshold(float between [0.,1.]) - Normalized threshold. Only the peaks with amplitude higher than the threshold will be detected.\n",
    "* window_size(int) - size of the sliding window, less than the length of the time series.  If greater, window_size will be set to the length of the time series.\n",
    "\n",
    "Returns\n",
    "* dic : 'upper' is upper peak averages, 'lower' is lower peak averages"
   ]
  },
  {
   "cell_type": "code",
   "execution_count": 9,
   "metadata": {
    "collapsed": true
   },
   "outputs": [],
   "source": [
    "def find_single_peak_dist(timeseries, threshold=0.8, window_size=500):\n",
    "    if (window_size > timeseries.last_valid_index()):\n",
    "        window_size = timeseries.last_valid_index()\n",
    "    upper = []\n",
    "    lower = []\n",
    "    ts_flipped = timeseries * -1\n",
    "    for i in np.arange(0, timeseries.index.size, window_size):\n",
    "        upper.append(estimate_period(timeseries.iloc[i:i+window_size], threshold))\n",
    "        lower.append(estimate_period(ts_flipped.iloc[i:i+window_size], threshold))\n",
    "    return { 'upper': upper, 'lower': lower, 'threshold': threshold, 'window': window_size }"
   ]
  },
  {
   "cell_type": "code",
   "execution_count": 11,
   "metadata": {
    "collapsed": false
   },
   "outputs": [
    {
     "ename": "TypeError",
     "evalue": "list indices must be integers or slices, not str",
     "output_type": "error",
     "traceback": [
      "\u001b[0;31m---------------------------------------------------------------------------\u001b[0m",
      "\u001b[0;31mTypeError\u001b[0m                                 Traceback (most recent call last)",
      "\u001b[0;32m<ipython-input-11-dd31f30ad1fe>\u001b[0m in \u001b[0;36m<module>\u001b[0;34m()\u001b[0m\n\u001b[1;32m      1\u001b[0m \u001b[0mpeak_dist_info\u001b[0m \u001b[0;34m=\u001b[0m \u001b[0mfind_single_peak_dist\u001b[0m\u001b[0;34m(\u001b[0m\u001b[0mwalking116\u001b[0m\u001b[0;34m)\u001b[0m\u001b[0;34m\u001b[0m\u001b[0m\n\u001b[0;32m----> 2\u001b[0;31m \u001b[0mpeak_dist_info\u001b[0m\u001b[0;34m[\u001b[0m\u001b[0;34m'upper'\u001b[0m\u001b[0;34m]\u001b[0m\u001b[0;34m\u001b[0m\u001b[0m\n\u001b[0m",
      "\u001b[0;31mTypeError\u001b[0m: list indices must be integers or slices, not str"
     ]
    }
   ],
   "source": [
    "peak_dist_info = find_single_peak_dist(walking116)\n",
    "peak_dist_info['upper']"
   ]
  },
  {
   "cell_type": "markdown",
   "metadata": {
    "collapsed": false
   },
   "source": [
    "## Choosing the correct window size\n",
    "It seems like we get better accuracy with a smaller window size but we cannot go too small, otherwise our peak detection algorithm does not register any peaks.  If the window size is n and our shaplet size is s, n cannot be less than s otherwise we would never catch any consecutive pair of peaks.  Realistically, we would like catch multiple peaks at a time and average their distances together but at a minimum to be gaurenteed to catch a single period, n needs to be at least 2s.  Since we do not know the length of the shaplet before hand, we will experiment by testing a number of window sizes to determine correct size."
   ]
  },
  {
   "cell_type": "markdown",
   "metadata": {
    "collapsed": true
   },
   "source": [
    "**TODO**"
   ]
  },
  {
   "cell_type": "code",
   "execution_count": null,
   "metadata": {
    "collapsed": true
   },
   "outputs": [],
   "source": []
  }
 ],
 "metadata": {
  "anaconda-cloud": {},
  "kernelspec": {
   "display_name": "Python [Root]",
   "language": "python",
   "name": "Python [Root]"
  },
  "language_info": {
   "codemirror_mode": {
    "name": "ipython",
    "version": 3
   },
   "file_extension": ".py",
   "mimetype": "text/x-python",
   "name": "python",
   "nbconvert_exporter": "python",
   "pygments_lexer": "ipython3",
   "version": "3.5.2"
  }
 },
 "nbformat": 4,
 "nbformat_minor": 0
}
