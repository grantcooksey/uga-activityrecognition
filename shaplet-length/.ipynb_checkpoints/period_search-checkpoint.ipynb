{
 "cells": [
  {
   "cell_type": "markdown",
   "metadata": {},
   "source": [
    "# Period Searcher\n",
    "This is an exploratory test to find a method that finds the period of an activity shapelet"
   ]
  },
  {
   "cell_type": "code",
   "execution_count": 2,
   "metadata": {
    "collapsed": false
   },
   "outputs": [],
   "source": [
    "import matplotlib.pyplot as plt\n",
    "%matplotlib qt\n",
    "import pandas as pd"
   ]
  },
  {
   "cell_type": "markdown",
   "metadata": {},
   "source": [
    "## Generate activity tables\n",
    "For now, we will only focus on the x-axis and create a sample to examine in detail."
   ]
  },
  {
   "cell_type": "code",
   "execution_count": 3,
   "metadata": {
    "collapsed": true
   },
   "outputs": [],
   "source": [
    "walking = pd.read_csv('../data/107/13_treadmill_3mph_0%.csv', names=[\"tick\", \"timestamp\",\n",
    "                                             \"activity\", \"x\", \"y\",\n",
    "                                             \"z\", \"user\"], index_col=False)\n",
    "sample = walking.loc[5500:6000,'x']"
   ]
  },
  {
   "cell_type": "markdown",
   "metadata": {},
   "source": [
    "Normalize sample index"
   ]
  },
  {
   "cell_type": "code",
   "execution_count": 4,
   "metadata": {
    "collapsed": false
   },
   "outputs": [],
   "source": [
    "sample = sample.to_frame()\n",
    "sample.columns = ['x']\n",
    "sample = sample.reset_index()\n",
    "sample = sample.drop('index', 1)"
   ]
  },
  {
   "cell_type": "code",
   "execution_count": 5,
   "metadata": {
    "collapsed": false
   },
   "outputs": [
    {
     "data": {
      "text/plain": [
       "[<matplotlib.lines.Line2D at 0x12010fda0>]"
      ]
     },
     "execution_count": 5,
     "metadata": {},
     "output_type": "execute_result"
    }
   ],
   "source": [
    "plt.close()\n",
    "plt.plot(sample)"
   ]
  },
  {
   "cell_type": "markdown",
   "metadata": {},
   "source": [
    "## Threshold analysis\n",
    "First examine using a threshold to find period peaks.  This method assumes there will be a consistent peak somewhere within each shaplet.  Potentially problematic if the activity does not produce an obvious 'marking' peak characteristic."
   ]
  },
  {
   "cell_type": "code",
   "execution_count": 6,
   "metadata": {
    "collapsed": false
   },
   "outputs": [
    {
     "data": {
      "text/html": [
       "<div>\n",
       "<table border=\"1\" class=\"dataframe\">\n",
       "  <thead>\n",
       "    <tr style=\"text-align: right;\">\n",
       "      <th></th>\n",
       "      <th>tick</th>\n",
       "      <th>timestamp</th>\n",
       "      <th>activity</th>\n",
       "      <th>x</th>\n",
       "      <th>y</th>\n",
       "      <th>z</th>\n",
       "      <th>user</th>\n",
       "    </tr>\n",
       "  </thead>\n",
       "  <tbody>\n",
       "    <tr>\n",
       "      <th>count</th>\n",
       "      <td>21501.000000</td>\n",
       "      <td>2.150100e+04</td>\n",
       "      <td>21501.0</td>\n",
       "      <td>21501.000000</td>\n",
       "      <td>21501.000000</td>\n",
       "      <td>21501.000000</td>\n",
       "      <td>21501.0</td>\n",
       "    </tr>\n",
       "    <tr>\n",
       "      <th>mean</th>\n",
       "      <td>776561.000000</td>\n",
       "      <td>2.013081e+13</td>\n",
       "      <td>13.0</td>\n",
       "      <td>-0.948345</td>\n",
       "      <td>0.246826</td>\n",
       "      <td>0.145762</td>\n",
       "      <td>107.0</td>\n",
       "    </tr>\n",
       "    <tr>\n",
       "      <th>std</th>\n",
       "      <td>6206.948405</td>\n",
       "      <td>1.049532e+02</td>\n",
       "      <td>0.0</td>\n",
       "      <td>0.236696</td>\n",
       "      <td>0.205780</td>\n",
       "      <td>0.148296</td>\n",
       "      <td>0.0</td>\n",
       "    </tr>\n",
       "    <tr>\n",
       "      <th>min</th>\n",
       "      <td>765811.000000</td>\n",
       "      <td>2.013081e+13</td>\n",
       "      <td>13.0</td>\n",
       "      <td>-1.836000</td>\n",
       "      <td>-0.220000</td>\n",
       "      <td>-0.279000</td>\n",
       "      <td>107.0</td>\n",
       "    </tr>\n",
       "    <tr>\n",
       "      <th>25%</th>\n",
       "      <td>771186.000000</td>\n",
       "      <td>2.013081e+13</td>\n",
       "      <td>13.0</td>\n",
       "      <td>-1.114000</td>\n",
       "      <td>0.117000</td>\n",
       "      <td>0.056000</td>\n",
       "      <td>107.0</td>\n",
       "    </tr>\n",
       "    <tr>\n",
       "      <th>50%</th>\n",
       "      <td>776561.000000</td>\n",
       "      <td>2.013081e+13</td>\n",
       "      <td>13.0</td>\n",
       "      <td>-0.947000</td>\n",
       "      <td>0.214000</td>\n",
       "      <td>0.120000</td>\n",
       "      <td>107.0</td>\n",
       "    </tr>\n",
       "    <tr>\n",
       "      <th>75%</th>\n",
       "      <td>781936.000000</td>\n",
       "      <td>2.013081e+13</td>\n",
       "      <td>13.0</td>\n",
       "      <td>-0.786000</td>\n",
       "      <td>0.331000</td>\n",
       "      <td>0.226000</td>\n",
       "      <td>107.0</td>\n",
       "    </tr>\n",
       "    <tr>\n",
       "      <th>max</th>\n",
       "      <td>787311.000000</td>\n",
       "      <td>2.013081e+13</td>\n",
       "      <td>13.0</td>\n",
       "      <td>-0.334000</td>\n",
       "      <td>1.226000</td>\n",
       "      <td>0.889000</td>\n",
       "      <td>107.0</td>\n",
       "    </tr>\n",
       "  </tbody>\n",
       "</table>\n",
       "</div>"
      ],
      "text/plain": [
       "                tick     timestamp  activity             x             y  \\\n",
       "count   21501.000000  2.150100e+04   21501.0  21501.000000  21501.000000   \n",
       "mean   776561.000000  2.013081e+13      13.0     -0.948345      0.246826   \n",
       "std      6206.948405  1.049532e+02       0.0      0.236696      0.205780   \n",
       "min    765811.000000  2.013081e+13      13.0     -1.836000     -0.220000   \n",
       "25%    771186.000000  2.013081e+13      13.0     -1.114000      0.117000   \n",
       "50%    776561.000000  2.013081e+13      13.0     -0.947000      0.214000   \n",
       "75%    781936.000000  2.013081e+13      13.0     -0.786000      0.331000   \n",
       "max    787311.000000  2.013081e+13      13.0     -0.334000      1.226000   \n",
       "\n",
       "                  z     user  \n",
       "count  21501.000000  21501.0  \n",
       "mean       0.145762    107.0  \n",
       "std        0.148296      0.0  \n",
       "min       -0.279000    107.0  \n",
       "25%        0.056000    107.0  \n",
       "50%        0.120000    107.0  \n",
       "75%        0.226000    107.0  \n",
       "max        0.889000    107.0  "
      ]
     },
     "execution_count": 6,
     "metadata": {},
     "output_type": "execute_result"
    }
   ],
   "source": [
    "walking.describe()"
   ]
  },
  {
   "cell_type": "code",
   "execution_count": 7,
   "metadata": {
    "collapsed": false
   },
   "outputs": [
    {
     "data": {
      "text/plain": [
       "count    16801.000000\n",
       "mean        -0.948915\n",
       "std          0.258736\n",
       "min         -1.836000\n",
       "25%         -1.147000\n",
       "50%         -0.918000\n",
       "75%         -0.762000\n",
       "max         -0.334000\n",
       "Name: x, dtype: float64"
      ]
     },
     "execution_count": 7,
     "metadata": {},
     "output_type": "execute_result"
    }
   ],
   "source": [
    "walking_cut = walking.loc[2200:19000,'x']\n",
    "walking_cut.describe()"
   ]
  },
  {
   "cell_type": "code",
   "execution_count": 8,
   "metadata": {
    "collapsed": false
   },
   "outputs": [
    {
     "data": {
      "text/plain": [
       "(array([   1.,    0.,    0.,    0.,    0.,    1.,    0.,    0.,    0.,\n",
       "           1.,    0.,    0.,    0.,    0.,    0.,    0.,    0.,    0.,\n",
       "           0.,    1.,    0.,    0.,    0.,    0.,    0.,    0.,    0.,\n",
       "           0.,    0.,    0.,    0.,    0.,    0.,    0.,    0.,    0.,\n",
       "           0.,    2.,    0.,    1.,    0.,    0.,    0.,    1.,    0.,\n",
       "           2.,    0.,    0.,    0.,    0.,    0.,    0.,    0.,    0.,\n",
       "           2.,    0.,    1.,    0.,    0.,    0.,    2.,    0.,    0.,\n",
       "           0.,    0.,    0.,    3.,    0.,    0.,    0.,    2.,    0.,\n",
       "           2.,    0.,    2.,    0.,    2.,    0.,    0.,    4.,    0.,\n",
       "           1.,    0.,    2.,    0.,    1.,    0.,    0.,    0.,    1.,\n",
       "           0.,    5.,    0.,    2.,    0.,    0.,    0.,    0.,    0.,\n",
       "           7.,    0.,    1.,    0.,    4.,    0.,    4.,    0.,    0.,\n",
       "           0.,    2.,    0.,    1.,    0.,    1.,    0.,    6.,    0.,\n",
       "           0.,    0.,    7.,    0.,    7.,    0.,    6.,    0.,    6.,\n",
       "           0.,    0.,    0.,    6.,    0.,    6.,    0.,    3.,    0.,\n",
       "           6.,    0.,    0.,    8.,    0.,    6.,    0.,    9.,    0.,\n",
       "           7.,    0.,    0.,    0.,    9.,    0.,    4.,    0.,    6.,\n",
       "           0.,    9.,    0.,    0.,    0.,    5.,    0.,    5.,    0.,\n",
       "           7.,    0.,    6.,    0.,    0.,    7.,    0.,   14.,    0.,\n",
       "           9.,    0.,   10.,    0.,    0.,    0.,    9.,    0.,    9.,\n",
       "           0.,    8.,    0.,   12.,    0.,    0.,    0.,   10.,    0.,\n",
       "           7.,    0.,   12.,    0.,    7.,    0.,    0.,    0.,    9.,\n",
       "           0.,    3.,    0.,   11.,    0.,   10.,    0.,    0.,    0.,\n",
       "          11.,    0.,   10.,    0.,    9.,    0.,   12.,    0.,    0.,\n",
       "           0.,   13.,    0.,    9.,    0.,   15.,    0.,    0.,    9.,\n",
       "           0.,   14.,    0.,    9.,    0.,    3.,    0.,    0.,    0.,\n",
       "          16.,    0.,    6.,    0.,    9.,    0.,    6.,    0.,    0.,\n",
       "           0.,    5.,    0.,    8.,    0.,   16.,    0.,    9.,    0.,\n",
       "           0.,   10.,    0.,   12.,    0.,   10.,    0.,   11.,    0.,\n",
       "           0.,    0.,   12.,    0.,    9.,    0.,   15.,    0.,    5.,\n",
       "           0.,    0.,    0.,   18.,    0.,    6.,    0.,    6.,    0.,\n",
       "           6.,    0.,    0.,   14.,    0.,   15.,    0.,   13.,    0.,\n",
       "          15.,    0.,    0.,    0.,   14.,    0.,   10.,    0.,   11.,\n",
       "           0.,   14.,    0.,    0.,    0.,   16.,    0.,   15.,    0.,\n",
       "          16.,    0.,   18.,    0.,    0.,    0.,   15.,    0.,   15.,\n",
       "           0.,   18.,    0.,   14.,    0.,    0.,    0.,   16.,    0.,\n",
       "          25.,    0.,   18.,    0.,   21.,    0.,    0.,    0.,   27.,\n",
       "           0.,   24.,    0.,   25.,    0.,   22.,    0.,    0.,   29.,\n",
       "           0.,   29.,    0.,   35.,    0.,   23.,    0.,    0.,    0.,\n",
       "          38.,    0.,   34.,    0.,   46.,    0.,   40.,    0.,    0.,\n",
       "           0.,   44.,    0.,   38.,    0.,   36.,    0.,   45.,    0.,\n",
       "           0.,   34.,    0.,   52.,    0.,   56.,    0.,   43.,    0.,\n",
       "           0.,    0.,   38.,    0.,   62.,    0.,   60.,    0.,    0.,\n",
       "           0.,   56.,    0.,   59.,    0.,   55.,    0.,   87.,    0.,\n",
       "           0.,    0.,   72.,    0.,   66.,    0.,   62.,    0.,   70.,\n",
       "           0.,    0.,    0.,   69.,    0.,   73.,    0.,   85.,    0.,\n",
       "          73.,    0.,    0.,    0.,   96.,    0.,   76.,    0.,   80.,\n",
       "           0.,   77.,    0.,    0.,   77.,    0.,   86.,    0.,   84.,\n",
       "           0.,   99.,    0.,    0.,    0.,   89.,    0.,   92.,    0.,\n",
       "          81.,    0.,   96.,    0.,    0.,    0.,   96.,    0.,   94.,\n",
       "           0.,   90.,    0.,  119.,    0.,    0.,   96.,    0.,   93.,\n",
       "           0.,   94.,    0.,   89.,    0.,    0.,    0.,  101.,    0.,\n",
       "          88.,    0.,   86.,    0.,   75.,    0.,    0.,    0.,   87.,\n",
       "           0.,   99.,    0.,   92.,    0.,   83.,    0.,    0.,    0.,\n",
       "          84.,    0.,   83.,    0.,   92.,    0.,   83.,    0.,    0.,\n",
       "           0.,   71.,    0.,   84.,    0.,   82.,   96.,    0.,    0.,\n",
       "           0.,   82.,    0.,   66.,    0.,   67.,    0.,   73.,    0.,\n",
       "           0.,    0.,   78.,    0.,   55.,    0.,   61.,    0.,   74.,\n",
       "           0.,    0.,    0.,   61.,    0.,   66.,    0.,   63.,    0.,\n",
       "          52.,    0.,    0.,    0.,   63.,    0.,   52.,    0.,   71.,\n",
       "           0.,   51.,    0.,    0.,   57.,    0.,   54.,    0.,   60.,\n",
       "           0.,   51.,    0.,    0.,    0.,   50.,    0.,   56.,    0.,\n",
       "          47.,    0.,    0.,    0.,   54.,    0.,   36.,    0.,   58.,\n",
       "           0.,   44.,    0.,    0.,   67.,    0.,   42.,    0.,   62.,\n",
       "           0.,   54.,    0.,    0.,    0.,   43.,    0.,   66.,    0.,\n",
       "          56.,    0.,   39.,    0.,    0.,    0.,   52.,    0.,   84.,\n",
       "           0.,   67.,    0.,   64.,    0.,    0.,    0.,   58.,    0.,\n",
       "          49.,    0.,   58.,    0.,   68.,    0.,    0.,    0.,   49.,\n",
       "           0.,   61.,    0.,   83.,    0.,   70.,    0.,    0.,    0.,\n",
       "          75.,    0.,   63.,    0.,   62.,    0.,   76.,    0.,    0.,\n",
       "          83.,    0.,   71.,    0.,   71.,    0.,   83.,    0.,    0.,\n",
       "           0.,  101.,    0.,  102.,    0.,   89.,    0.,   84.,    0.,\n",
       "           0.,    0.,   86.,    0.,  124.,    0.,   95.,    0.,   97.,\n",
       "           0.,    0.,   91.,    0.,  101.,    0.,  127.,    0.,   94.,\n",
       "           0.,    0.,    0.,  109.,    0.,   96.,    0.,  116.,    0.,\n",
       "         114.,    0.,    0.,    0.,  114.,    0.,  134.,    0.,  121.,\n",
       "           0.,  124.,    0.,    0.,    0.,  120.,    0.,  121.,    0.,\n",
       "         114.,    0.,   95.,    0.,    0.,    0.,  118.,    0.,  117.,\n",
       "           0.,   99.,    0.,  102.,    0.,    0.,    0.,  100.,    0.,\n",
       "         111.,    0.,  107.,    0.,   84.,    0.,    0.,   84.,    0.,\n",
       "          90.,    0.,   74.,    0.,    0.,    0.,   91.,    0.,   88.,\n",
       "           0.,   80.,    0.,   69.,    0.,    0.,    0.,   80.,    0.,\n",
       "          73.,    0.,   63.,    0.,   61.,    0.,    0.,   68.,    0.,\n",
       "          45.,    0.,   50.,    0.,   49.,    0.,    0.,    0.,   55.,\n",
       "           0.,   68.,    0.,   57.,    0.,   47.,    0.,    0.,    0.,\n",
       "          60.,    0.,   50.,    0.,   47.,    0.,   57.,    0.,    0.,\n",
       "          50.,    0.,   43.,    0.,   44.,    0.,   51.,    0.,    0.,\n",
       "           0.,   43.,    0.,   44.,    0.,   43.,    0.,   36.,    0.,\n",
       "           0.,    0.,   46.,    0.,   51.,    0.,   52.,    0.,   42.,\n",
       "           0.,    0.,    0.,   51.,    0.,   44.,    0.,   48.,    0.,\n",
       "          51.,    0.,    0.,    0.,   52.,    0.,   63.,    0.,   60.,\n",
       "           0.,   46.,    0.,    0.,    0.,   56.,    0.,   52.,    0.,\n",
       "          42.,    0.,   56.,    0.,    0.,   65.,    0.,   59.,    0.,\n",
       "          59.,    0.,   59.,    0.,    0.,    0.,   49.,    0.,   61.,\n",
       "           0.,   64.,    0.,   57.,    0.,    0.,    0.,   67.,    0.,\n",
       "          58.,    0.,   52.,    0.,   53.,    0.,    0.,   52.,    0.,\n",
       "          57.,    0.,   69.,    0.,   48.,    0.,    0.,    0.,   53.,\n",
       "           0.,   48.,    0.,   49.,    0.,   32.,    0.,    0.,    0.,\n",
       "          40.,    0.,   34.,    0.,   33.,    0.,    0.,    0.,   33.,\n",
       "           0.,   38.,    0.,   25.,    0.,   22.,    0.,    0.,    0.,\n",
       "          18.,    0.,   16.,    0.,   18.,    0.,   19.,    0.,    0.,\n",
       "           0.,   17.,    0.,   14.,    0.,    8.,    0.,    9.,    0.,\n",
       "           0.,    2.,    0.,    2.,    0.,    6.,    0.,    6.,    0.,\n",
       "           0.,    0.,    3.,    0.,    1.,    0.,    1.,    0.,    2.,\n",
       "           0.,    0.,    0.,    0.,    0.,    1.,    0.,    0.,    0.,\n",
       "           0.,    0.,    0.,    0.,    0.,    0.,    0.,    1.,    0.,\n",
       "           0.,    0.,    0.,    0.,    0.,    0.,    0.,    0.,    0.,\n",
       "           0.,    0.,    0.,    0.,    0.,    0.,    0.,    0.,    0.,\n",
       "           1.,    0.,    0.,    0.,    0.,    0.,    0.,    0.,    0.,\n",
       "           0.,    0.,    0.,    0.,    0.,    0.,    0.,    0.,    0.,\n",
       "           0.,    0.,    0.,    0.,    0.,    0.,    0.,    0.,    0.,    1.]),\n",
       " array([-1.836   , -1.834498, -1.832996, ..., -0.337004, -0.335502, -0.334   ]),\n",
       " <a list of 1000 Patch objects>)"
      ]
     },
     "execution_count": 8,
     "metadata": {},
     "output_type": "execute_result"
    }
   ],
   "source": [
    "plt.close()\n",
    "plt.hist(walking_cut, bins=1000)"
   ]
  },
  {
   "cell_type": "code",
   "execution_count": 9,
   "metadata": {
    "collapsed": false
   },
   "outputs": [
    {
     "data": {
      "text/plain": [
       "[<matplotlib.lines.Line2D at 0x123cb7550>]"
      ]
     },
     "execution_count": 9,
     "metadata": {},
     "output_type": "execute_result"
    }
   ],
   "source": [
    "plt.close()\n",
    "builder = walking_cut\n",
    "plt.plot(builder, 'b')\n",
    "plt.plot([builder.first_valid_index(), builder.last_valid_index()], [-1.47, -1.47], 'g')"
   ]
  },
  {
   "cell_type": "markdown",
   "metadata": {},
   "source": [
    "I am not sure if this method will work too well with a single threshold.  There appears to be too much variability in acceleration in the x-axis"
   ]
  },
  {
   "cell_type": "code",
   "execution_count": 10,
   "metadata": {
    "collapsed": false
   },
   "outputs": [
    {
     "data": {
      "text/plain": [
       "[<matplotlib.lines.Line2D at 0x124dea5f8>]"
      ]
     },
     "execution_count": 10,
     "metadata": {},
     "output_type": "execute_result"
    }
   ],
   "source": [
    "plt.close()\n",
    "plt.plot(sample)"
   ]
  },
  {
   "cell_type": "markdown",
   "metadata": {
    "collapsed": true
   },
   "source": [
    "## Testing PeakUtils\n"
   ]
  },
  {
   "cell_type": "code",
   "execution_count": 28,
   "metadata": {
    "collapsed": false
   },
   "outputs": [
    {
     "data": {
      "text/plain": [
       "[<matplotlib.lines.Line2D at 0x12d642cc0>]"
      ]
     },
     "execution_count": 28,
     "metadata": {},
     "output_type": "execute_result"
    }
   ],
   "source": [
    "import peakutils\n",
    "indexes = peakutils.indexes(sample['x'].values, thres=-3, min_dist=.5)\n",
    "peaks = sample.iloc[indexes]\n",
    "plt.close()\n",
    "plt.plot(sample)\n",
    "plt.plot(peaks, \"r+\")"
   ]
  },
  {
   "cell_type": "code",
   "execution_count": 51,
   "metadata": {
    "collapsed": false
   },
   "outputs": [
    {
     "data": {
      "text/plain": [
       "[<matplotlib.lines.Line2D at 0x12a1d1940>]"
      ]
     },
     "execution_count": 51,
     "metadata": {},
     "output_type": "execute_result"
    }
   ],
   "source": [
    "flipped = sample * -1\n",
    "flipped_indexes = peakutils.indexes(flipped['x'].values, thres=.8)\n",
    "flipped_peaks = flipped.iloc[flipped_indexes]\n",
    "plt.close()\n",
    "plt.plot(flipped)\n",
    "plt.plot(flipped_peaks, 'r+')"
   ]
  },
  {
   "cell_type": "code",
   "execution_count": 52,
   "metadata": {
    "collapsed": false
   },
   "outputs": [
    {
     "name": "stderr",
     "output_type": "stream",
     "text": [
      "/Users/cooksey/anaconda3/lib/python3.5/site-packages/ipykernel/__main__.py:1: SettingWithCopyWarning: \n",
      "A value is trying to be set on a copy of a slice from a DataFrame.\n",
      "Try using .loc[row_indexer,col_indexer] = value instead\n",
      "\n",
      "See the caveats in the documentation: http://pandas.pydata.org/pandas-docs/stable/indexing.html#indexing-view-versus-copy\n",
      "  if __name__ == '__main__':\n"
     ]
    },
    {
     "data": {
      "text/html": [
       "<div>\n",
       "<table border=\"1\" class=\"dataframe\">\n",
       "  <thead>\n",
       "    <tr style=\"text-align: right;\">\n",
       "      <th></th>\n",
       "      <th>x</th>\n",
       "      <th>peak</th>\n",
       "    </tr>\n",
       "  </thead>\n",
       "  <tbody>\n",
       "    <tr>\n",
       "      <th>count</th>\n",
       "      <td>5.000000</td>\n",
       "      <td>5.000000</td>\n",
       "    </tr>\n",
       "    <tr>\n",
       "      <th>mean</th>\n",
       "      <td>1.672600</td>\n",
       "      <td>204.400000</td>\n",
       "    </tr>\n",
       "    <tr>\n",
       "      <th>std</th>\n",
       "      <td>0.077854</td>\n",
       "      <td>155.271697</td>\n",
       "    </tr>\n",
       "    <tr>\n",
       "      <th>min</th>\n",
       "      <td>1.589000</td>\n",
       "      <td>9.000000</td>\n",
       "    </tr>\n",
       "    <tr>\n",
       "      <th>25%</th>\n",
       "      <td>1.607000</td>\n",
       "      <td>106.000000</td>\n",
       "    </tr>\n",
       "    <tr>\n",
       "      <th>50%</th>\n",
       "      <td>1.677000</td>\n",
       "      <td>203.000000</td>\n",
       "    </tr>\n",
       "    <tr>\n",
       "      <th>75%</th>\n",
       "      <td>1.710000</td>\n",
       "      <td>302.000000</td>\n",
       "    </tr>\n",
       "    <tr>\n",
       "      <th>max</th>\n",
       "      <td>1.780000</td>\n",
       "      <td>402.000000</td>\n",
       "    </tr>\n",
       "  </tbody>\n",
       "</table>\n",
       "</div>"
      ],
      "text/plain": [
       "              x        peak\n",
       "count  5.000000    5.000000\n",
       "mean   1.672600  204.400000\n",
       "std    0.077854  155.271697\n",
       "min    1.589000    9.000000\n",
       "25%    1.607000  106.000000\n",
       "50%    1.677000  203.000000\n",
       "75%    1.710000  302.000000\n",
       "max    1.780000  402.000000"
      ]
     },
     "execution_count": 52,
     "metadata": {},
     "output_type": "execute_result"
    }
   ],
   "source": [
    "flipped_peaks['peak'] = flipped_peaks.index\n",
    "flipped_peaks.describe()"
   ]
  },
  {
   "cell_type": "code",
   "execution_count": 86,
   "metadata": {
    "collapsed": false
   },
   "outputs": [
    {
     "name": "stderr",
     "output_type": "stream",
     "text": [
      "/Users/cooksey/anaconda3/lib/python3.5/site-packages/ipykernel/__main__.py:1: SettingWithCopyWarning: \n",
      "A value is trying to be set on a copy of a slice from a DataFrame.\n",
      "Try using .loc[row_indexer,col_indexer] = value instead\n",
      "\n",
      "See the caveats in the documentation: http://pandas.pydata.org/pandas-docs/stable/indexing.html#indexing-view-versus-copy\n",
      "  if __name__ == '__main__':\n"
     ]
    },
    {
     "data": {
      "text/html": [
       "<div>\n",
       "<table border=\"1\" class=\"dataframe\">\n",
       "  <thead>\n",
       "    <tr style=\"text-align: right;\">\n",
       "      <th></th>\n",
       "      <th>x</th>\n",
       "      <th>peak</th>\n",
       "      <th>shift</th>\n",
       "    </tr>\n",
       "  </thead>\n",
       "  <tbody>\n",
       "    <tr>\n",
       "      <th>9</th>\n",
       "      <td>1.607</td>\n",
       "      <td>9</td>\n",
       "      <td>9</td>\n",
       "    </tr>\n",
       "    <tr>\n",
       "      <th>106</th>\n",
       "      <td>1.677</td>\n",
       "      <td>106</td>\n",
       "      <td>106</td>\n",
       "    </tr>\n",
       "    <tr>\n",
       "      <th>203</th>\n",
       "      <td>1.710</td>\n",
       "      <td>203</td>\n",
       "      <td>203</td>\n",
       "    </tr>\n",
       "    <tr>\n",
       "      <th>302</th>\n",
       "      <td>1.780</td>\n",
       "      <td>302</td>\n",
       "      <td>302</td>\n",
       "    </tr>\n",
       "    <tr>\n",
       "      <th>402</th>\n",
       "      <td>1.589</td>\n",
       "      <td>402</td>\n",
       "      <td>402</td>\n",
       "    </tr>\n",
       "  </tbody>\n",
       "</table>\n",
       "</div>"
      ],
      "text/plain": [
       "         x  peak  shift\n",
       "9    1.607     9      9\n",
       "106  1.677   106    106\n",
       "203  1.710   203    203\n",
       "302  1.780   302    302\n",
       "402  1.589   402    402"
      ]
     },
     "execution_count": 86,
     "metadata": {},
     "output_type": "execute_result"
    }
   ],
   "source": [
    "flipped_peaks['shift'] = flipped_peaks.index\n",
    "diff = flipped_peaks.loc[:,['shift']].shift(1)\n",
    "diff = diff.join(flipped_peaks.loc[:, ['peak']])\n",
    "diff = diff.dropna(0)\n",
    "flipped_peaks"
   ]
  },
  {
   "cell_type": "code",
   "execution_count": 90,
   "metadata": {
    "collapsed": false
   },
   "outputs": [
    {
     "data": {
      "text/plain": [
       "98.25"
      ]
     },
     "execution_count": 90,
     "metadata": {},
     "output_type": "execute_result"
    }
   ],
   "source": [
    "average = diff['peak'] - diff['shift']\n",
    "average.mean()"
   ]
  },
  {
   "cell_type": "markdown",
   "metadata": {},
   "source": [
    "This gave us relatively accurate results for the sample. The variance over the entire set may be a problem"
   ]
  },
  {
   "cell_type": "code",
   "execution_count": 102,
   "metadata": {
    "collapsed": false
   },
   "outputs": [
    {
     "data": {
      "text/plain": [
       "98.25"
      ]
     },
     "execution_count": 102,
     "metadata": {},
     "output_type": "execute_result"
    }
   ],
   "source": [
    "def estimate_period(df, threshold):\n",
    "    indexes = peakutils.indexes(df['x'].values, thres=threshold)\n",
    "    indexes = pd.Series(indexes)\n",
    "    diff = indexes.drop(0) - indexes.shift(1).drop(0)\n",
    "    return diff.mean()\n",
    "estimate_period(sample * -1, .8)"
   ]
  },
  {
   "cell_type": "code",
   "execution_count": null,
   "metadata": {
    "collapsed": true
   },
   "outputs": [],
   "source": []
  }
 ],
 "metadata": {
  "anaconda-cloud": {},
  "kernelspec": {
   "display_name": "Python [Root]",
   "language": "python",
   "name": "Python [Root]"
  },
  "language_info": {
   "codemirror_mode": {
    "name": "ipython",
    "version": 3
   },
   "file_extension": ".py",
   "mimetype": "text/x-python",
   "name": "python",
   "nbconvert_exporter": "python",
   "pygments_lexer": "ipython3",
   "version": "3.5.2"
  }
 },
 "nbformat": 4,
 "nbformat_minor": 0
}
