{
 "cells": [
  {
   "cell_type": "markdown",
   "metadata": {},
   "source": [
    "# Meeting Notes for HAR"
   ]
  },
  {
   "cell_type": "markdown",
   "metadata": {},
   "source": [
    "## 11/8/2016\n",
    "\n",
    "Discussed how to determine which side of the time series contains the correct length.  Check out \n",
    "* standard deviation using the median instead of the mean\n",
    "* median absolute deviation (mad)\n",
    "* maximum likelihood is a possibility\n",
    "\n",
    "Using either std dev or mad, we will use the lower number to determine which side to use.\n",
    "\n",
    "Continue using the peak detection algorithm to find the optimal length\n",
    "\n",
    "### Shaplet Extraction\n",
    "Extract possible shaplets. Cut by fixed window length and slide by fixed step of 20\n",
    "\n",
    "### Candidate Shaplet Search\n",
    "Run each shaplet against the entire timeseries and store the top 10% euclidiean distances in a file.\n",
    "\n",
    "\n",
    "\n",
    "Next meeting is Thursday 11/10 at 12:30 PM"
   ]
  },
  {
   "cell_type": "code",
   "execution_count": null,
   "metadata": {
    "collapsed": true
   },
   "outputs": [],
   "source": []
  }
 ],
 "metadata": {
  "kernelspec": {
   "display_name": "Python [Root]",
   "language": "python",
   "name": "Python [Root]"
  },
  "language_info": {
   "codemirror_mode": {
    "name": "ipython",
    "version": 3
   },
   "file_extension": ".py",
   "mimetype": "text/x-python",
   "name": "python",
   "nbconvert_exporter": "python",
   "pygments_lexer": "ipython3",
   "version": "3.5.2"
  }
 },
 "nbformat": 4,
 "nbformat_minor": 0
}
