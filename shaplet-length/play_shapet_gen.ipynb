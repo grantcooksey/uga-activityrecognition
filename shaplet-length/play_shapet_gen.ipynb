{
 "cells": [
  {
   "cell_type": "markdown",
   "metadata": {},
   "source": [
    "# Testing Shaplet Generation"
   ]
  },
  {
   "cell_type": "code",
   "execution_count": 1,
   "metadata": {
    "collapsed": true
   },
   "outputs": [],
   "source": [
    "import shaplet_util as util\n",
    "import pandas as pd\n",
    "import numpy as np\n",
    "import matplotlib.pyplot as plt\n",
    "%matplotlib qt"
   ]
  },
  {
   "cell_type": "code",
   "execution_count": 2,
   "metadata": {
    "collapsed": false
   },
   "outputs": [],
   "source": [
    "sample = pd.read_csv('../../data/144/13_treadmill_3mph_0%.csv', names=[\"tick\", \"timestamp\",\n",
    "                                             \"activity\", \"x\", \"y\",\n",
    "                                             \"z\", \"user\"], index_col=False)"
   ]
  },
  {
   "cell_type": "code",
   "execution_count": 3,
   "metadata": {
    "collapsed": false
   },
   "outputs": [
    {
     "data": {
      "text/plain": [
       "[<matplotlib.lines.Line2D at 0x11e7ce588>]"
      ]
     },
     "execution_count": 3,
     "metadata": {},
     "output_type": "execute_result"
    }
   ],
   "source": [
    "plt.close()\n",
    "plt.plot(sample['x'])"
   ]
  },
  {
   "cell_type": "code",
   "execution_count": 4,
   "metadata": {
    "collapsed": false
   },
   "outputs": [],
   "source": [
    "walking = sample.iloc[3000:19000]\n",
    "walking = walking.reset_index()"
   ]
  },
  {
   "cell_type": "code",
   "execution_count": 5,
   "metadata": {
    "collapsed": false
   },
   "outputs": [
    {
     "data": {
      "text/plain": [
       "16000"
      ]
     },
     "execution_count": 5,
     "metadata": {},
     "output_type": "execute_result"
    }
   ],
   "source": [
    "period = util.find_single_peak_dist(walking, window_size=5000, step=100)\n",
    "walking.index.size"
   ]
  },
  {
   "cell_type": "code",
   "execution_count": 6,
   "metadata": {
    "collapsed": false
   },
   "outputs": [
    {
     "data": {
      "text/plain": [
       "<matplotlib.text.Text at 0x12435c128>"
      ]
     },
     "execution_count": 6,
     "metadata": {},
     "output_type": "execute_result"
    }
   ],
   "source": [
    "plt.close()\n",
    "plt.plot(period['upper'], \".\")\n",
    "plt.xlabel('Window Index')\n",
    "plt.ylabel('Average Peak Distance')"
   ]
  },
  {
   "cell_type": "code",
   "execution_count": 7,
   "metadata": {
    "collapsed": false
   },
   "outputs": [
    {
     "data": {
      "text/plain": [
       "99.0"
      ]
     },
     "execution_count": 7,
     "metadata": {},
     "output_type": "execute_result"
    }
   ],
   "source": [
    "period['upper'].median()"
   ]
  },
  {
   "cell_type": "code",
   "execution_count": 8,
   "metadata": {
    "collapsed": false
   },
   "outputs": [
    {
     "data": {
      "text/plain": [
       "<matplotlib.text.Text at 0x1246dea90>"
      ]
     },
     "execution_count": 8,
     "metadata": {},
     "output_type": "execute_result"
    }
   ],
   "source": [
    "plt.close()\n",
    "plt.plot(period['lower'], \".\")\n",
    "plt.xlabel('Window Index')\n",
    "plt.ylabel('Average Peak Distance')"
   ]
  },
  {
   "cell_type": "code",
   "execution_count": 9,
   "metadata": {
    "collapsed": false
   },
   "outputs": [
    {
     "data": {
      "text/plain": [
       "64.5"
      ]
     },
     "execution_count": 9,
     "metadata": {},
     "output_type": "execute_result"
    }
   ],
   "source": [
    "period['lower'].median()"
   ]
  },
  {
   "cell_type": "code",
   "execution_count": 10,
   "metadata": {
    "collapsed": true
   },
   "outputs": [],
   "source": [
    "shaplet_len = period['upper'].median()"
   ]
  },
  {
   "cell_type": "code",
   "execution_count": 13,
   "metadata": {
    "collapsed": false
   },
   "outputs": [],
   "source": [
    "def dist(row):\n",
    "    return row.apply(row_dist, args=(row.name,))\n",
    "\n",
    "def row_dist(column, row):\n",
    "    test_shaplet =  walking.loc[int(row):int(row)+shaplet_len].reset_index()\n",
    "    ts_slice = walking.loc[int(column):int(column)+shaplet_len].reset_index()\n",
    "    return np.linalg.norm(test_shaplet['x']- ts_slice['x'])\n",
    "\n",
    "def set_column(x):\n",
    "    return x.fillna(x.name)"
   ]
  },
  {
   "cell_type": "code",
   "execution_count": 14,
   "metadata": {
    "collapsed": false
   },
   "outputs": [],
   "source": [
    "#df = pd.DataFrame(data=[], index=np.arange(0,1000,20), columns=np.arange(0,1000,1))\n",
    "#df = df.apply(set_column, axis=0)"
   ]
  },
  {
   "cell_type": "code",
   "execution_count": 15,
   "metadata": {
    "collapsed": false
   },
   "outputs": [],
   "source": [
    "#df = df.apply(dist, axis=1)"
   ]
  },
  {
   "cell_type": "code",
   "execution_count": 26,
   "metadata": {
    "collapsed": false
   },
   "outputs": [
    {
     "data": {
      "text/plain": [
       "[<matplotlib.lines.Line2D at 0x115f4a320>]"
      ]
     },
     "execution_count": 26,
     "metadata": {},
     "output_type": "execute_result"
    }
   ],
   "source": [
    "walking_test=walking.iloc[0:200]\n",
    "plt.close()\n",
    "plt.plot(walking_test['x'])"
   ]
  },
  {
   "cell_type": "code",
   "execution_count": 27,
   "metadata": {
    "collapsed": false
   },
   "outputs": [],
   "source": [
    "df = pd.DataFrame(data=[], index=np.arange(0,walking_test['x'].index.size-shaplet_len,20), columns=walking_test.index)\n",
    "df.index = df.index.map(int)"
   ]
  },
  {
   "cell_type": "code",
   "execution_count": 28,
   "metadata": {
    "collapsed": false
   },
   "outputs": [],
   "source": [
    "df = df.apply(set_column, axis=0)"
   ]
  },
  {
   "cell_type": "code",
   "execution_count": 29,
   "metadata": {
    "collapsed": false
   },
   "outputs": [],
   "source": [
    "euclidean_dist_df = df.apply(dist, axis=1)"
   ]
  },
  {
   "cell_type": "code",
   "execution_count": 44,
   "metadata": {
    "collapsed": false
   },
   "outputs": [
    {
     "data": {
      "text/html": [
       "<div>\n",
       "<table border=\"1\" class=\"dataframe\">\n",
       "  <thead>\n",
       "    <tr style=\"text-align: right;\">\n",
       "      <th></th>\n",
       "      <th>0</th>\n",
       "      <th>1</th>\n",
       "      <th>2</th>\n",
       "      <th>3</th>\n",
       "      <th>4</th>\n",
       "      <th>5</th>\n",
       "      <th>6</th>\n",
       "      <th>7</th>\n",
       "      <th>8</th>\n",
       "      <th>9</th>\n",
       "      <th>...</th>\n",
       "      <th>11</th>\n",
       "      <th>12</th>\n",
       "      <th>13</th>\n",
       "      <th>14</th>\n",
       "      <th>15</th>\n",
       "      <th>16</th>\n",
       "      <th>17</th>\n",
       "      <th>18</th>\n",
       "      <th>19</th>\n",
       "      <th>20</th>\n",
       "    </tr>\n",
       "  </thead>\n",
       "  <tbody>\n",
       "    <tr>\n",
       "      <th>0</th>\n",
       "      <td>0.0</td>\n",
       "      <td>0.726429</td>\n",
       "      <td>1.120096</td>\n",
       "      <td>1.168412</td>\n",
       "      <td>1.322799</td>\n",
       "      <td>1.395313</td>\n",
       "      <td>1.403245</td>\n",
       "      <td>1.442945</td>\n",
       "      <td>1.489713</td>\n",
       "      <td>1.511575</td>\n",
       "      <td>...</td>\n",
       "      <td>1.729104</td>\n",
       "      <td>1.765334</td>\n",
       "      <td>1.813231</td>\n",
       "      <td>1.969101</td>\n",
       "      <td>1.987912</td>\n",
       "      <td>2.000740</td>\n",
       "      <td>2.022080</td>\n",
       "      <td>2.034052</td>\n",
       "      <td>2.042686</td>\n",
       "      <td>2.077869</td>\n",
       "    </tr>\n",
       "    <tr>\n",
       "      <th>20</th>\n",
       "      <td>0.0</td>\n",
       "      <td>0.704436</td>\n",
       "      <td>0.709277</td>\n",
       "      <td>1.212423</td>\n",
       "      <td>1.241124</td>\n",
       "      <td>1.357277</td>\n",
       "      <td>1.367282</td>\n",
       "      <td>1.436211</td>\n",
       "      <td>1.489274</td>\n",
       "      <td>1.789241</td>\n",
       "      <td>...</td>\n",
       "      <td>1.940255</td>\n",
       "      <td>1.945184</td>\n",
       "      <td>1.953712</td>\n",
       "      <td>1.984817</td>\n",
       "      <td>2.029135</td>\n",
       "      <td>2.098397</td>\n",
       "      <td>2.128573</td>\n",
       "      <td>2.130646</td>\n",
       "      <td>2.139721</td>\n",
       "      <td>2.140785</td>\n",
       "    </tr>\n",
       "    <tr>\n",
       "      <th>40</th>\n",
       "      <td>0.0</td>\n",
       "      <td>0.690162</td>\n",
       "      <td>0.720725</td>\n",
       "      <td>1.085245</td>\n",
       "      <td>1.200825</td>\n",
       "      <td>1.263421</td>\n",
       "      <td>1.314795</td>\n",
       "      <td>1.422253</td>\n",
       "      <td>1.543562</td>\n",
       "      <td>1.607948</td>\n",
       "      <td>...</td>\n",
       "      <td>1.965146</td>\n",
       "      <td>1.995104</td>\n",
       "      <td>2.065103</td>\n",
       "      <td>2.082156</td>\n",
       "      <td>2.086172</td>\n",
       "      <td>2.140006</td>\n",
       "      <td>2.160943</td>\n",
       "      <td>2.212895</td>\n",
       "      <td>2.217679</td>\n",
       "      <td>2.218609</td>\n",
       "    </tr>\n",
       "    <tr>\n",
       "      <th>60</th>\n",
       "      <td>0.0</td>\n",
       "      <td>0.613052</td>\n",
       "      <td>0.617292</td>\n",
       "      <td>1.036865</td>\n",
       "      <td>1.075811</td>\n",
       "      <td>1.171196</td>\n",
       "      <td>1.185877</td>\n",
       "      <td>1.238484</td>\n",
       "      <td>1.314049</td>\n",
       "      <td>1.569388</td>\n",
       "      <td>...</td>\n",
       "      <td>1.654920</td>\n",
       "      <td>1.685230</td>\n",
       "      <td>1.918718</td>\n",
       "      <td>1.966770</td>\n",
       "      <td>1.985053</td>\n",
       "      <td>1.996876</td>\n",
       "      <td>2.023013</td>\n",
       "      <td>2.042257</td>\n",
       "      <td>2.062036</td>\n",
       "      <td>2.081699</td>\n",
       "    </tr>\n",
       "    <tr>\n",
       "      <th>80</th>\n",
       "      <td>0.0</td>\n",
       "      <td>0.595510</td>\n",
       "      <td>0.597162</td>\n",
       "      <td>1.075884</td>\n",
       "      <td>1.132918</td>\n",
       "      <td>1.145581</td>\n",
       "      <td>1.154027</td>\n",
       "      <td>1.219089</td>\n",
       "      <td>1.349381</td>\n",
       "      <td>1.499094</td>\n",
       "      <td>...</td>\n",
       "      <td>1.641233</td>\n",
       "      <td>1.648659</td>\n",
       "      <td>1.827522</td>\n",
       "      <td>1.953540</td>\n",
       "      <td>1.992399</td>\n",
       "      <td>2.028444</td>\n",
       "      <td>2.040167</td>\n",
       "      <td>2.051798</td>\n",
       "      <td>2.060760</td>\n",
       "      <td>2.135674</td>\n",
       "    </tr>\n",
       "    <tr>\n",
       "      <th>100</th>\n",
       "      <td>0.0</td>\n",
       "      <td>0.570681</td>\n",
       "      <td>0.574704</td>\n",
       "      <td>1.095831</td>\n",
       "      <td>1.107825</td>\n",
       "      <td>1.123160</td>\n",
       "      <td>1.133417</td>\n",
       "      <td>1.165838</td>\n",
       "      <td>1.221661</td>\n",
       "      <td>1.232944</td>\n",
       "      <td>...</td>\n",
       "      <td>1.442753</td>\n",
       "      <td>1.483398</td>\n",
       "      <td>1.562225</td>\n",
       "      <td>1.574745</td>\n",
       "      <td>1.718467</td>\n",
       "      <td>1.804241</td>\n",
       "      <td>1.813231</td>\n",
       "      <td>1.970122</td>\n",
       "      <td>1.970540</td>\n",
       "      <td>2.029484</td>\n",
       "    </tr>\n",
       "  </tbody>\n",
       "</table>\n",
       "<p>6 rows × 21 columns</p>\n",
       "</div>"
      ],
      "text/plain": [
       "      0         1         2         3         4         5         6   \\\n",
       "0    0.0  0.726429  1.120096  1.168412  1.322799  1.395313  1.403245   \n",
       "20   0.0  0.704436  0.709277  1.212423  1.241124  1.357277  1.367282   \n",
       "40   0.0  0.690162  0.720725  1.085245  1.200825  1.263421  1.314795   \n",
       "60   0.0  0.613052  0.617292  1.036865  1.075811  1.171196  1.185877   \n",
       "80   0.0  0.595510  0.597162  1.075884  1.132918  1.145581  1.154027   \n",
       "100  0.0  0.570681  0.574704  1.095831  1.107825  1.123160  1.133417   \n",
       "\n",
       "           7         8         9     ...           11        12        13  \\\n",
       "0    1.442945  1.489713  1.511575    ...     1.729104  1.765334  1.813231   \n",
       "20   1.436211  1.489274  1.789241    ...     1.940255  1.945184  1.953712   \n",
       "40   1.422253  1.543562  1.607948    ...     1.965146  1.995104  2.065103   \n",
       "60   1.238484  1.314049  1.569388    ...     1.654920  1.685230  1.918718   \n",
       "80   1.219089  1.349381  1.499094    ...     1.641233  1.648659  1.827522   \n",
       "100  1.165838  1.221661  1.232944    ...     1.442753  1.483398  1.562225   \n",
       "\n",
       "           14        15        16        17        18        19        20  \n",
       "0    1.969101  1.987912  2.000740  2.022080  2.034052  2.042686  2.077869  \n",
       "20   1.984817  2.029135  2.098397  2.128573  2.130646  2.139721  2.140785  \n",
       "40   2.082156  2.086172  2.140006  2.160943  2.212895  2.217679  2.218609  \n",
       "60   1.966770  1.985053  1.996876  2.023013  2.042257  2.062036  2.081699  \n",
       "80   1.953540  1.992399  2.028444  2.040167  2.051798  2.060760  2.135674  \n",
       "100  1.574745  1.718467  1.804241  1.813231  1.970122  1.970540  2.029484  \n",
       "\n",
       "[6 rows x 21 columns]"
      ]
     },
     "execution_count": 44,
     "metadata": {},
     "output_type": "execute_result"
    }
   ],
   "source": [
    "def get_best(row):\n",
    "    num_best = int(row.size * .1)\n",
    "    sorted_row = row.sort_values().reset_index()\n",
    "    return sorted_row.loc[0:num_best, row.name]\n",
    "euclidean_dist_df.apply(get_best, axis=1)"
   ]
  },
  {
   "cell_type": "code",
   "execution_count": 45,
   "metadata": {
    "collapsed": false
   },
   "outputs": [],
   "source": [
    "euclidean_dist_df.to_csv(\"144_candidate_shaplets\")"
   ]
  },
  {
   "cell_type": "code",
   "execution_count": null,
   "metadata": {
    "collapsed": true
   },
   "outputs": [],
   "source": []
  }
 ],
 "metadata": {
  "anaconda-cloud": {},
  "kernelspec": {
   "display_name": "Python [Root]",
   "language": "python",
   "name": "Python [Root]"
  },
  "language_info": {
   "codemirror_mode": {
    "name": "ipython",
    "version": 3
   },
   "file_extension": ".py",
   "mimetype": "text/x-python",
   "name": "python",
   "nbconvert_exporter": "python",
   "pygments_lexer": "ipython3",
   "version": "3.5.2"
  }
 },
 "nbformat": 4,
 "nbformat_minor": 0
}
