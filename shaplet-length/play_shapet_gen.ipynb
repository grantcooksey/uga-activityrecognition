{
 "cells": [
  {
   "cell_type": "markdown",
   "metadata": {},
   "source": [
    "# Testing Shaplet Generation"
   ]
  },
  {
   "cell_type": "code",
   "execution_count": 1,
   "metadata": {
    "collapsed": true
   },
   "outputs": [],
   "source": [
    "import shaplet_util as util\n",
    "import pandas as pd\n",
    "import numpy as np\n",
    "import matplotlib.pyplot as plt\n",
    "%matplotlib qt"
   ]
  },
  {
   "cell_type": "code",
   "execution_count": 2,
   "metadata": {
    "collapsed": false
   },
   "outputs": [],
   "source": [
    "sample = pd.read_csv('../../data/144/13_treadmill_3mph_0%.csv', names=[\"tick\", \"timestamp\",\n",
    "                                             \"activity\", \"x\", \"y\",\n",
    "                                             \"z\", \"user\"], index_col=False)"
   ]
  },
  {
   "cell_type": "code",
   "execution_count": 3,
   "metadata": {
    "collapsed": false
   },
   "outputs": [
    {
     "data": {
      "text/plain": [
       "[<matplotlib.lines.Line2D at 0x7f581cf07f90>]"
      ]
     },
     "execution_count": 3,
     "metadata": {},
     "output_type": "execute_result"
    }
   ],
   "source": [
    "plt.close()\n",
    "plt.plot(sample['x'])"
   ]
  },
  {
   "cell_type": "code",
   "execution_count": 4,
   "metadata": {
    "collapsed": false
   },
   "outputs": [],
   "source": [
    "walking = sample.iloc[3000:19000]\n",
    "walking = walking.reset_index()"
   ]
  },
  {
   "cell_type": "code",
   "execution_count": 5,
   "metadata": {
    "collapsed": false
   },
   "outputs": [
    {
     "data": {
      "text/plain": [
       "16000"
      ]
     },
     "execution_count": 5,
     "metadata": {},
     "output_type": "execute_result"
    }
   ],
   "source": [
    "period = util.find_single_peak_dist(walking, window_size=5000, step=100)\n",
    "walking.index.size"
   ]
  },
  {
   "cell_type": "code",
   "execution_count": 6,
   "metadata": {
    "collapsed": false
   },
   "outputs": [
    {
     "data": {
      "text/plain": [
       "<matplotlib.text.Text at 0x7f581c6832d0>"
      ]
     },
     "execution_count": 6,
     "metadata": {},
     "output_type": "execute_result"
    }
   ],
   "source": [
    "plt.close()\n",
    "plt.plot(period['upper'], \".\")\n",
    "plt.xlabel('Window Index')\n",
    "plt.ylabel('Average Peak Distance')"
   ]
  },
  {
   "cell_type": "code",
   "execution_count": 8,
   "metadata": {
    "collapsed": false
   },
   "outputs": [
    {
     "data": {
      "text/plain": [
       "97.5"
      ]
     },
     "execution_count": 8,
     "metadata": {},
     "output_type": "execute_result"
    }
   ],
   "source": [
    "period['upper'].median()"
   ]
  },
  {
   "cell_type": "code",
   "execution_count": 9,
   "metadata": {
    "collapsed": false
   },
   "outputs": [
    {
     "data": {
      "text/plain": [
       "<matplotlib.text.Text at 0x7f581c45c090>"
      ]
     },
     "execution_count": 9,
     "metadata": {},
     "output_type": "execute_result"
    }
   ],
   "source": [
    "plt.close()\n",
    "plt.plot(period['lower'], \".\")\n",
    "plt.xlabel('Window Index')\n",
    "plt.ylabel('Average Peak Distance')"
   ]
  },
  {
   "cell_type": "code",
   "execution_count": 10,
   "metadata": {
    "collapsed": false
   },
   "outputs": [
    {
     "data": {
      "text/plain": [
       "66.0"
      ]
     },
     "execution_count": 10,
     "metadata": {},
     "output_type": "execute_result"
    }
   ],
   "source": [
    "period['lower'].median()"
   ]
  },
  {
   "cell_type": "code",
   "execution_count": 11,
   "metadata": {
    "collapsed": true
   },
   "outputs": [],
   "source": [
    "shaplet_len = period['upper'].median()"
   ]
  },
  {
   "cell_type": "code",
   "execution_count": 12,
   "metadata": {
    "collapsed": false
   },
   "outputs": [],
   "source": [
    "def dist(row):\n",
    "    return row.apply(row_dist, args=(row.name,))\n",
    "\n",
    "def row_dist(column, row):\n",
    "    test_shaplet =  walking.loc[int(row):int(row)+shaplet_len].reset_index()\n",
    "    ts_slice = walking.loc[int(column):int(column)+shaplet_len].reset_index()\n",
    "    return np.linalg.norm(test_shaplet['x']- ts_slice['x'])\n",
    "\n",
    "def set_column(x):\n",
    "    return x.fillna(x.name)"
   ]
  },
  {
   "cell_type": "code",
   "execution_count": 13,
   "metadata": {
    "collapsed": false
   },
   "outputs": [],
   "source": [
    "#df = pd.DataFrame(data=[], index=np.arange(0,1000,20), columns=np.arange(0,1000,1))\n",
    "#df = df.apply(set_column, axis=0)"
   ]
  },
  {
   "cell_type": "code",
   "execution_count": 14,
   "metadata": {
    "collapsed": false
   },
   "outputs": [],
   "source": [
    "#df = df.apply(dist, axis=1)"
   ]
  },
  {
   "cell_type": "code",
   "execution_count": 15,
   "metadata": {
    "collapsed": false
   },
   "outputs": [
    {
     "data": {
      "text/plain": [
       "[<matplotlib.lines.Line2D at 0x7f581c065290>]"
      ]
     },
     "execution_count": 15,
     "metadata": {},
     "output_type": "execute_result"
    }
   ],
   "source": [
    "walking_test=walking.iloc[0:200]\n",
    "plt.close()\n",
    "plt.plot(walking_test['x'])"
   ]
  },
  {
   "cell_type": "code",
   "execution_count": 16,
   "metadata": {
    "collapsed": false
   },
   "outputs": [],
   "source": [
    "df = pd.DataFrame(data=[], index=np.arange(0,walking_test['x'].index.size-shaplet_len,20), columns=walking_test.index)\n",
    "df.index = df.index.map(int)"
   ]
  },
  {
   "cell_type": "code",
   "execution_count": 17,
   "metadata": {
    "collapsed": false
   },
   "outputs": [],
   "source": [
    "df = df.apply(set_column, axis=0)"
   ]
  },
  {
   "cell_type": "code",
   "execution_count": 18,
   "metadata": {
    "collapsed": false
   },
   "outputs": [],
   "source": [
    "euclidean_dist_df = df.apply(dist, axis=1)"
   ]
  },
  {
   "cell_type": "code",
   "execution_count": 19,
   "metadata": {
    "collapsed": false
   },
   "outputs": [
    {
     "data": {
      "text/html": [
       "<div>\n",
       "<table border=\"1\" class=\"dataframe\">\n",
       "  <thead>\n",
       "    <tr style=\"text-align: right;\">\n",
       "      <th></th>\n",
       "      <th>0</th>\n",
       "      <th>1</th>\n",
       "      <th>2</th>\n",
       "      <th>3</th>\n",
       "      <th>4</th>\n",
       "      <th>5</th>\n",
       "      <th>6</th>\n",
       "      <th>7</th>\n",
       "      <th>8</th>\n",
       "      <th>9</th>\n",
       "      <th>...</th>\n",
       "      <th>11</th>\n",
       "      <th>12</th>\n",
       "      <th>13</th>\n",
       "      <th>14</th>\n",
       "      <th>15</th>\n",
       "      <th>16</th>\n",
       "      <th>17</th>\n",
       "      <th>18</th>\n",
       "      <th>19</th>\n",
       "      <th>20</th>\n",
       "    </tr>\n",
       "  </thead>\n",
       "  <tbody>\n",
       "    <tr>\n",
       "      <th>0</th>\n",
       "      <td>0.0</td>\n",
       "      <td>0.873175</td>\n",
       "      <td>0.940862</td>\n",
       "      <td>1.056421</td>\n",
       "      <td>1.374186</td>\n",
       "      <td>1.680600</td>\n",
       "      <td>1.805756</td>\n",
       "      <td>2.058748</td>\n",
       "      <td>2.339378</td>\n",
       "      <td>2.542740</td>\n",
       "      <td>...</td>\n",
       "      <td>2.914596</td>\n",
       "      <td>3.014927</td>\n",
       "      <td>3.034116</td>\n",
       "      <td>3.079105</td>\n",
       "      <td>3.094298</td>\n",
       "      <td>3.119425</td>\n",
       "      <td>3.152701</td>\n",
       "      <td>3.182022</td>\n",
       "      <td>3.183490</td>\n",
       "      <td>3.186641</td>\n",
       "    </tr>\n",
       "    <tr>\n",
       "      <th>20</th>\n",
       "      <td>0.0</td>\n",
       "      <td>0.871736</td>\n",
       "      <td>0.895335</td>\n",
       "      <td>1.005982</td>\n",
       "      <td>1.055875</td>\n",
       "      <td>1.398339</td>\n",
       "      <td>1.555582</td>\n",
       "      <td>1.646374</td>\n",
       "      <td>1.744347</td>\n",
       "      <td>1.911814</td>\n",
       "      <td>...</td>\n",
       "      <td>2.282540</td>\n",
       "      <td>2.398446</td>\n",
       "      <td>2.499230</td>\n",
       "      <td>2.761050</td>\n",
       "      <td>2.794012</td>\n",
       "      <td>2.805990</td>\n",
       "      <td>2.820885</td>\n",
       "      <td>2.836694</td>\n",
       "      <td>2.876791</td>\n",
       "      <td>2.940219</td>\n",
       "    </tr>\n",
       "    <tr>\n",
       "      <th>40</th>\n",
       "      <td>0.0</td>\n",
       "      <td>0.945395</td>\n",
       "      <td>0.945404</td>\n",
       "      <td>1.284001</td>\n",
       "      <td>1.436667</td>\n",
       "      <td>1.658862</td>\n",
       "      <td>1.815855</td>\n",
       "      <td>1.816194</td>\n",
       "      <td>1.968041</td>\n",
       "      <td>2.259498</td>\n",
       "      <td>...</td>\n",
       "      <td>2.559322</td>\n",
       "      <td>2.580707</td>\n",
       "      <td>2.829202</td>\n",
       "      <td>2.837156</td>\n",
       "      <td>2.843631</td>\n",
       "      <td>2.876979</td>\n",
       "      <td>2.924001</td>\n",
       "      <td>2.954335</td>\n",
       "      <td>3.033786</td>\n",
       "      <td>3.042693</td>\n",
       "    </tr>\n",
       "    <tr>\n",
       "      <th>60</th>\n",
       "      <td>0.0</td>\n",
       "      <td>0.943961</td>\n",
       "      <td>0.947337</td>\n",
       "      <td>1.290562</td>\n",
       "      <td>1.449289</td>\n",
       "      <td>1.657562</td>\n",
       "      <td>1.809069</td>\n",
       "      <td>1.821687</td>\n",
       "      <td>1.978459</td>\n",
       "      <td>2.254317</td>\n",
       "      <td>...</td>\n",
       "      <td>2.569393</td>\n",
       "      <td>2.585236</td>\n",
       "      <td>2.836447</td>\n",
       "      <td>2.913720</td>\n",
       "      <td>2.940561</td>\n",
       "      <td>2.975431</td>\n",
       "      <td>2.999629</td>\n",
       "      <td>3.019015</td>\n",
       "      <td>3.057462</td>\n",
       "      <td>3.065933</td>\n",
       "    </tr>\n",
       "    <tr>\n",
       "      <th>80</th>\n",
       "      <td>0.0</td>\n",
       "      <td>0.765448</td>\n",
       "      <td>0.781992</td>\n",
       "      <td>1.273812</td>\n",
       "      <td>1.278871</td>\n",
       "      <td>1.447738</td>\n",
       "      <td>1.530182</td>\n",
       "      <td>1.570121</td>\n",
       "      <td>1.590500</td>\n",
       "      <td>1.990299</td>\n",
       "      <td>...</td>\n",
       "      <td>2.088847</td>\n",
       "      <td>2.213086</td>\n",
       "      <td>2.419101</td>\n",
       "      <td>2.488053</td>\n",
       "      <td>2.623821</td>\n",
       "      <td>2.740424</td>\n",
       "      <td>2.756933</td>\n",
       "      <td>2.760199</td>\n",
       "      <td>2.793785</td>\n",
       "      <td>2.799136</td>\n",
       "    </tr>\n",
       "    <tr>\n",
       "      <th>100</th>\n",
       "      <td>0.0</td>\n",
       "      <td>0.882467</td>\n",
       "      <td>0.884167</td>\n",
       "      <td>1.695388</td>\n",
       "      <td>1.703413</td>\n",
       "      <td>2.395551</td>\n",
       "      <td>2.415136</td>\n",
       "      <td>2.914596</td>\n",
       "      <td>2.927097</td>\n",
       "      <td>2.939932</td>\n",
       "      <td>...</td>\n",
       "      <td>2.963341</td>\n",
       "      <td>2.992427</td>\n",
       "      <td>3.020255</td>\n",
       "      <td>3.023388</td>\n",
       "      <td>3.090493</td>\n",
       "      <td>3.160699</td>\n",
       "      <td>3.164075</td>\n",
       "      <td>3.239144</td>\n",
       "      <td>3.333413</td>\n",
       "      <td>3.340047</td>\n",
       "    </tr>\n",
       "  </tbody>\n",
       "</table>\n",
       "<p>6 rows × 21 columns</p>\n",
       "</div>"
      ],
      "text/plain": [
       "      0         1         2         3         4         5         6   \\\n",
       "0    0.0  0.873175  0.940862  1.056421  1.374186  1.680600  1.805756   \n",
       "20   0.0  0.871736  0.895335  1.005982  1.055875  1.398339  1.555582   \n",
       "40   0.0  0.945395  0.945404  1.284001  1.436667  1.658862  1.815855   \n",
       "60   0.0  0.943961  0.947337  1.290562  1.449289  1.657562  1.809069   \n",
       "80   0.0  0.765448  0.781992  1.273812  1.278871  1.447738  1.530182   \n",
       "100  0.0  0.882467  0.884167  1.695388  1.703413  2.395551  2.415136   \n",
       "\n",
       "           7         8         9     ...           11        12        13  \\\n",
       "0    2.058748  2.339378  2.542740    ...     2.914596  3.014927  3.034116   \n",
       "20   1.646374  1.744347  1.911814    ...     2.282540  2.398446  2.499230   \n",
       "40   1.816194  1.968041  2.259498    ...     2.559322  2.580707  2.829202   \n",
       "60   1.821687  1.978459  2.254317    ...     2.569393  2.585236  2.836447   \n",
       "80   1.570121  1.590500  1.990299    ...     2.088847  2.213086  2.419101   \n",
       "100  2.914596  2.927097  2.939932    ...     2.963341  2.992427  3.020255   \n",
       "\n",
       "           14        15        16        17        18        19        20  \n",
       "0    3.079105  3.094298  3.119425  3.152701  3.182022  3.183490  3.186641  \n",
       "20   2.761050  2.794012  2.805990  2.820885  2.836694  2.876791  2.940219  \n",
       "40   2.837156  2.843631  2.876979  2.924001  2.954335  3.033786  3.042693  \n",
       "60   2.913720  2.940561  2.975431  2.999629  3.019015  3.057462  3.065933  \n",
       "80   2.488053  2.623821  2.740424  2.756933  2.760199  2.793785  2.799136  \n",
       "100  3.023388  3.090493  3.160699  3.164075  3.239144  3.333413  3.340047  \n",
       "\n",
       "[6 rows x 21 columns]"
      ]
     },
     "execution_count": 19,
     "metadata": {},
     "output_type": "execute_result"
    }
   ],
   "source": [
    "def get_best(row):\n",
    "    num_best = int(row.size * .1)\n",
    "    sorted_row = row.sort_values().reset_index()\n",
    "    return sorted_row.loc[0:num_best, row.name]\n",
    "euclidean_dist_df.apply(get_best, axis=1)"
   ]
  },
  {
   "cell_type": "code",
   "execution_count": 45,
   "metadata": {
    "collapsed": false
   },
   "outputs": [],
   "source": [
    "euclidean_dist_df.to_csv(\"144_candidate_shaplets\")"
   ]
  },
  {
   "cell_type": "code",
   "execution_count": null,
   "metadata": {
    "collapsed": true
   },
   "outputs": [],
   "source": []
  }
 ],
 "metadata": {
  "anaconda-cloud": {},
  "kernelspec": {
   "display_name": "Python [Root]",
   "language": "python",
   "name": "Python [Root]"
  },
  "language_info": {
   "codemirror_mode": {
    "name": "ipython",
    "version": 3
   },
   "file_extension": ".py",
   "mimetype": "text/x-python",
   "name": "python",
   "nbconvert_exporter": "python",
   "pygments_lexer": "ipython3",
   "version": "3.5.2"
  }
 },
 "nbformat": 4,
 "nbformat_minor": 0
}
