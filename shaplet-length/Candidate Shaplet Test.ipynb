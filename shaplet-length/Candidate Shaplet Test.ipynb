{
 "cells": [
  {
   "cell_type": "markdown",
   "metadata": {},
   "source": [
    "# Candidate Shaplet\n",
    "We will explore the results from the candidate shaplet extraction"
   ]
  },
  {
   "cell_type": "code",
   "execution_count": 1,
   "metadata": {
    "collapsed": true
   },
   "outputs": [],
   "source": [
    "import pandas as pd\n",
    "import matplotlib.pyplot as plt\n",
    "%matplotlib qt"
   ]
  },
  {
   "cell_type": "markdown",
   "metadata": {},
   "source": [
    "Pull in the data from the shaplet script"
   ]
  },
  {
   "cell_type": "code",
   "execution_count": 2,
   "metadata": {
    "collapsed": false
   },
   "outputs": [],
   "source": [
    "df = pd.read_csv('../../shaplets/140_candidate_shaplets.csv', header=0, index_col=0)"
   ]
  },
  {
   "cell_type": "markdown",
   "metadata": {},
   "source": [
    "For now we will just sum the results from the search.  'sum' represents the sum of the top 10% of euclidean distances for that particular shaplet "
   ]
  },
  {
   "cell_type": "code",
   "execution_count": 3,
   "metadata": {
    "collapsed": false
   },
   "outputs": [],
   "source": [
    "df['sum'] = df.sum(1)"
   ]
  },
  {
   "cell_type": "code",
   "execution_count": 4,
   "metadata": {
    "collapsed": false
   },
   "outputs": [
    {
     "data": {
      "text/plain": [
       "count     796.000000\n",
       "mean     3685.670797\n",
       "std       264.934928\n",
       "min      2999.698280\n",
       "25%      3500.255702\n",
       "50%      3677.293737\n",
       "75%      3870.237682\n",
       "max      4753.168935\n",
       "Name: sum, dtype: float64"
      ]
     },
     "execution_count": 4,
     "metadata": {},
     "output_type": "execute_result"
    }
   ],
   "source": [
    "df['sum'].describe()"
   ]
  },
  {
   "cell_type": "markdown",
   "metadata": {},
   "source": [
    "Use the shaplet with the smalled sum as the candidate shaplet"
   ]
  },
  {
   "cell_type": "code",
   "execution_count": 5,
   "metadata": {
    "collapsed": false
   },
   "outputs": [],
   "source": [
    "shaplet_index = df['sum'].sort_values().index[0]"
   ]
  },
  {
   "cell_type": "markdown",
   "metadata": {},
   "source": [
    "This value was discovered by printing out the value from the euclidean distance script.  \n",
    "***In the future, we should be storing the shaplet length in the file*** "
   ]
  },
  {
   "cell_type": "code",
   "execution_count": 6,
   "metadata": {
    "collapsed": true
   },
   "outputs": [],
   "source": [
    "shaplet_len = 97.5"
   ]
  },
  {
   "cell_type": "markdown",
   "metadata": {},
   "source": [
    "Pull in data from walking and running from the same user"
   ]
  },
  {
   "cell_type": "code",
   "execution_count": 7,
   "metadata": {
    "collapsed": false
   },
   "outputs": [],
   "source": [
    "walking = pd.read_csv('../../data/140/13_treadmill_3mph_0%.csv', names=[\"tick\", \"timestamp\",\n",
    "                                             \"activity\", \"x\", \"y\",\n",
    "                                             \"z\", \"user\"], index_col=False)\n",
    "running = pd.read_csv('../../data/140/17_treadmill_6mph_0%.csv', names=[\"tick\", \"timestamp\",\n",
    "                                             \"activity\", \"x\", \"y\",\n",
    "                                             \"z\", \"user\"], index_col=False)\n",
    "medium_walking = pd.read_csv('../../data/140/15_treadmill_4mph_0%.csv', names=[\"tick\", \"timestamp\",\n",
    "                                             \"activity\", \"x\", \"y\",\n",
    "                                             \"z\", \"user\"], index_col=False)\n",
    "laundry = pd.read_csv('../../data/140/19_seated_folding_laundry.csv', names=[\"tick\", \"timestamp\",\n",
    "                                             \"activity\", \"x\", \"y\",\n",
    "                                             \"z\", \"user\"], index_col=False)"
   ]
  },
  {
   "cell_type": "code",
   "execution_count": 8,
   "metadata": {
    "collapsed": true
   },
   "outputs": [],
   "source": [
    "import numpy as np"
   ]
  },
  {
   "cell_type": "markdown",
   "metadata": {},
   "source": [
    "Extract the candidate shaplet."
   ]
  },
  {
   "cell_type": "code",
   "execution_count": 9,
   "metadata": {
    "collapsed": true
   },
   "outputs": [],
   "source": [
    "shaplet = walking.loc[shaplet_index:shaplet_index+shaplet_len].reset_index()"
   ]
  },
  {
   "cell_type": "markdown",
   "metadata": {},
   "source": [
    "## Testing the Shaplet \n",
    "For the same user, we will test the candidate shaplet against walking and running from the same user.\n",
    "To simplify this test, we will only test values from [7000:13000] with the intention of doing this in real time in the future.  \n",
    "\n",
    "For each index in that range, a shaplet will be extracted of the walking shaplet length and tested using euclidean distance against the candidate shaplet"
   ]
  },
  {
   "cell_type": "code",
   "execution_count": 10,
   "metadata": {
    "collapsed": false
   },
   "outputs": [],
   "source": [
    "walk_test = []\n",
    "run_test = []\n",
    "laundry_test = []\n",
    "med_test = []\n",
    "for x in range(7000, 13000):\n",
    "    wslice = walking.loc[x:x+shaplet_len].reset_index()\n",
    "    rslice = running.loc[x:x+shaplet_len].reset_index()\n",
    "    lslice = laundry.loc[x:x+shaplet_len].reset_index()\n",
    "    mslice = medium_walking.loc[x:x+shaplet_len].reset_index()\n",
    "    walk_test.append(np.linalg.norm(shaplet['x'] - wslice['x']))\n",
    "    run_test.append(np.linalg.norm(shaplet['x'] - rslice['x']))\n",
    "    laundry_test.append(np.linalg.norm(shaplet['x'] - lslice['x']))\n",
    "    med_test.append(np.linalg.norm(shaplet['x'] - mslice['x']))"
   ]
  },
  {
   "cell_type": "code",
   "execution_count": 11,
   "metadata": {
    "collapsed": true
   },
   "outputs": [],
   "source": [
    "walk_test = pd.Series(walk_test)\n",
    "run_test = pd.Series(run_test)\n",
    "laundry_test = pd.Series(laundry_test)\n",
    "med_test = pd.Series(med_test)"
   ]
  },
  {
   "cell_type": "code",
   "execution_count": 25,
   "metadata": {
    "collapsed": false
   },
   "outputs": [
    {
     "data": {
      "text/plain": [
       "[<matplotlib.lines.Line2D at 0x131660400>]"
      ]
     },
     "execution_count": 25,
     "metadata": {},
     "output_type": "execute_result"
    }
   ],
   "source": [
    "plt.close()\n",
    "plt.plot(walk_test)\n",
    "#plt.plot(med_test, 'r')\n",
    "#plt.plot(laundry_test, 'r')\n",
    "#plt.plot(run_test, 'k')"
   ]
  },
  {
   "cell_type": "code",
   "execution_count": 24,
   "metadata": {
    "collapsed": false
   },
   "outputs": [],
   "source": [
    "shaplet_models = df['sum'].sort_values().index[0:2]\n",
    "plt.close()\n",
    "for model in shaplet_models:\n",
    "    pd_model = walking.loc[model:model+shaplet_len].reset_index()\n",
    "    plt.plot(pd_model['x'])"
   ]
  },
  {
   "cell_type": "code",
   "execution_count": null,
   "metadata": {
    "collapsed": true
   },
   "outputs": [],
   "source": []
  }
 ],
 "metadata": {
  "anaconda-cloud": {},
  "kernelspec": {
   "display_name": "Python [Root]",
   "language": "python",
   "name": "Python [Root]"
  },
  "language_info": {
   "codemirror_mode": {
    "name": "ipython",
    "version": 3
   },
   "file_extension": ".py",
   "mimetype": "text/x-python",
   "name": "python",
   "nbconvert_exporter": "python",
   "pygments_lexer": "ipython3",
   "version": "3.5.2"
  }
 },
 "nbformat": 4,
 "nbformat_minor": 0
}
