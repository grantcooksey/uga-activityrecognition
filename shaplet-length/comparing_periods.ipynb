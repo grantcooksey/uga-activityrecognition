{
 "cells": [
  {
   "cell_type": "markdown",
   "metadata": {},
   "source": [
    "# Comparison between different users"
   ]
  },
  {
   "cell_type": "code",
   "execution_count": 2,
   "metadata": {
    "collapsed": true
   },
   "outputs": [],
   "source": [
    "import numpy as np\n",
    "import pandas as pd\n",
    "import matplotlib.pyplot as plt\n",
    "%matplotlib qt\n",
    "import peakutils"
   ]
  },
  {
   "cell_type": "code",
   "execution_count": 3,
   "metadata": {
    "collapsed": true
   },
   "outputs": [],
   "source": [
    "def estimate_period(df, threshold):\n",
    "    indexes = peakutils.indexes(df['x'].values, thres=threshold, min_dist=10)\n",
    "    indexes = pd.Series(indexes)\n",
    "    #peaks = df.iloc[indexes]\n",
    "    if indexes.index.size != 0:\n",
    "        diff = indexes.drop(0) - indexes.shift(1).drop(0)\n",
    "        return diff.mean()\n",
    "    return float('nan')\n",
    "    #plt.close()\n",
    "    #plt.plot(df['x'])\n",
    "    #plt.plot(peaks['x'], 'r+')"
   ]
  },
  {
   "cell_type": "markdown",
   "metadata": {},
   "source": [
    "Users who have data on walking: ['/102', '/103', '/107', '/110', '/116', '/118', '/121', '/122', '/125', '/131', '/133', '/140', '/143', '/144', '/148', '/149', '/153', '/159', '/161', '/166', '/171', '/174', '/179', '/181', '/182', '/184', '/188', '/189', '/192']\n",
    "\n",
    "**Make sure your data file is in the right location on your local machine.**\n"
   ]
  },
  {
   "cell_type": "code",
   "execution_count": 5,
   "metadata": {
    "collapsed": false
   },
   "outputs": [],
   "source": [
    "walking116 = pd.read_csv('../../data/116/13_treadmill_3mph_0%.csv', names=[\"tick\", \"timestamp\",\n",
    "                                             \"activity\", \"x\", \"y\",\n",
    "                                             \"z\", \"user\"], index_col=False)\n",
    "walking125 = pd.read_csv('../../data/125/13_treadmill_3mph_0%.csv', names=[\"tick\", \"timestamp\",\n",
    "                                             \"activity\", \"x\", \"y\",\n",
    "                                             \"z\", \"user\"], index_col=False)"
   ]
  },
  {
   "cell_type": "markdown",
   "metadata": {},
   "source": [
    "## Cleaning data\n",
    "I trimmed the beggining and end of each timeseries due to bogus values.  Points were chosen visually."
   ]
  },
  {
   "cell_type": "code",
   "execution_count": 6,
   "metadata": {
    "collapsed": true
   },
   "outputs": [],
   "source": [
    "walking116 = walking116.iloc[2800:21000]\n",
    "walking125 = walking125.iloc[2500:20000]\n",
    "walking116 = walking116.reset_index()\n",
    "walking125 = walking125.reset_index()"
   ]
  },
  {
   "cell_type": "markdown",
   "metadata": {},
   "source": [
    "Initialize variables for the search.  Windows will be 1 second long."
   ]
  },
  {
   "cell_type": "code",
   "execution_count": 7,
   "metadata": {
    "collapsed": true
   },
   "outputs": [],
   "source": [
    "window_size = 500\n",
    "period_upper_116 = []\n",
    "period_lower_116 = []\n",
    "period_upper_125 = []\n",
    "period_lower_125 = []\n",
    "threshold = .8"
   ]
  },
  {
   "cell_type": "code",
   "execution_count": 8,
   "metadata": {
    "collapsed": false
   },
   "outputs": [],
   "source": [
    "for i in np.arange(0, walking116.index.size, window_size):\n",
    "    period_upper_116.append(estimate_period(walking116.iloc[i:i+window_size], threshold))\n",
    "    period_lower_116.append(estimate_period(walking116.iloc[i:i+window_size] * -1, threshold))\n",
    "for i in np.arange(0, walking125.index.size, window_size):\n",
    "    period_upper_125.append(estimate_period(walking125.iloc[i:i+window_size], threshold))\n",
    "    period_lower_125.append(estimate_period(walking125.iloc[i:i+window_size] * -1, threshold))"
   ]
  },
  {
   "cell_type": "code",
   "execution_count": 9,
   "metadata": {
    "collapsed": false
   },
   "outputs": [
    {
     "data": {
      "text/plain": [
       "0     104.000000\n",
       "1     206.000000\n",
       "2     102.000000\n",
       "3     102.750000\n",
       "4     102.666667\n",
       "5     153.000000\n",
       "6     102.000000\n",
       "7     102.000000\n",
       "8     135.000000\n",
       "9     101.750000\n",
       "10    101.750000\n",
       "11    102.000000\n",
       "12    101.500000\n",
       "13    101.750000\n",
       "14    135.333333\n",
       "15    101.666667\n",
       "16    102.000000\n",
       "17    102.000000\n",
       "18    102.000000\n",
       "19    102.000000\n",
       "20    136.666667\n",
       "21    102.250000\n",
       "22    102.250000\n",
       "23    101.750000\n",
       "24    101.750000\n",
       "25    101.000000\n",
       "26    102.000000\n",
       "27    135.666667\n",
       "28    102.666667\n",
       "29    101.666667\n",
       "30    102.000000\n",
       "31    101.500000\n",
       "32    101.750000\n",
       "33    102.000000\n",
       "34    102.333333\n",
       "35    102.500000\n",
       "36    104.000000\n",
       "dtype: float64"
      ]
     },
     "execution_count": 9,
     "metadata": {},
     "output_type": "execute_result"
    }
   ],
   "source": [
    "upper = pd.Series(period_upper_116)\n",
    "lower = pd.Series(period_lower_116)\n",
    "lower\n",
    "#print('Upper\\n',upper.describe())\n",
    "#print('Lower\\n',lower.describe())"
   ]
  },
  {
   "cell_type": "markdown",
   "metadata": {
    "collapsed": false
   },
   "source": [
    "## Choosing the correct window size\n",
    "It seems like get better accuracy with a smaller window size but we can go too small, where our peak detection algorithm does not register any peaks.  Intuitively, our window size cannot be smaller that the shaplet we are searching for"
   ]
  },
  {
   "cell_type": "code",
   "execution_count": null,
   "metadata": {
    "collapsed": true
   },
   "outputs": [],
   "source": []
  }
 ],
 "metadata": {
  "anaconda-cloud": {},
  "kernelspec": {
   "display_name": "Python [Root]",
   "language": "python",
   "name": "Python [Root]"
  },
  "language_info": {
   "codemirror_mode": {
    "name": "ipython",
    "version": 3
   },
   "file_extension": ".py",
   "mimetype": "text/x-python",
   "name": "python",
   "nbconvert_exporter": "python",
   "pygments_lexer": "ipython3",
   "version": "3.5.2"
  }
 },
 "nbformat": 4,
 "nbformat_minor": 0
}
