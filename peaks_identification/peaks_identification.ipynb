{
 "cells": [
  {
   "cell_type": "markdown",
   "metadata": {},
   "source": [
    "# Code to find Peaks"
   ]
  },
  {
   "cell_type": "code",
   "execution_count": 1,
   "metadata": {
    "collapsed": false
   },
   "outputs": [],
   "source": [
    "import sys\n",
    "import math as mt\n",
    "from numpy import NaN, Inf, arange, isscalar, asarray, array\n",
    "\n",
    "def peakdet(v, delta, x = None):\n",
    "    \"\"\"\n",
    "    Converted from MATLAB script at http://billauer.co.il/peakdet.html\n",
    "    \n",
    "    Returns two arrays\n",
    "    \n",
    "    function [maxtab, mintab]=peakdet(v, delta, x)\n",
    "    %PEAKDET Detect peaks in a vector\n",
    "    %        [MAXTAB, MINTAB] = PEAKDET(V, DELTA) finds the local\n",
    "    %        maxima and minima (\"peaks\") in the vector V.\n",
    "    %        MAXTAB and MINTAB consists of two columns. Column 1\n",
    "    %        contains indices in V, and column 2 the found values.\n",
    "    %      \n",
    "    %        With [MAXTAB, MINTAB] = PEAKDET(V, DELTA, X) the indices\n",
    "    %        in MAXTAB and MINTAB are replaced with the corresponding\n",
    "    %        X-values.\n",
    "    %\n",
    "    %        A point is considered a maximum peak if it has the maximal\n",
    "    %        value, and was preceded (to the left) by a value lower by\n",
    "    %        DELTA.\n",
    "    \n",
    "    % Eli Billauer, 3.4.05 (Explicitly not copyrighted).\n",
    "    % This function is released to the public domain; Any use is allowed.\n",
    "    \n",
    "    \"\"\"\n",
    "    maxtab = []\n",
    "    mintab = []\n",
    "       \n",
    "    if x is None:\n",
    "        x = arange(len(v))\n",
    "    \n",
    "    v = asarray(v)\n",
    "    \n",
    "    if len(v) != len(x):\n",
    "        sys.exit('Input vectors v and x must have same length')\n",
    "    \n",
    "    if not isscalar(delta):\n",
    "        sys.exit('Input argument delta must be a scalar')\n",
    "    \n",
    "    if delta <= 0:\n",
    "        sys.exit('Input argument delta must be positive')\n",
    "    \n",
    "    mn, mx = Inf, -Inf\n",
    "    mnpos, mxpos = NaN, NaN\n",
    "    \n",
    "    lookformax = True\n",
    "    \n",
    "    for i in arange(len(v)):\n",
    "        this = v[i]\n",
    "        if this > mx:\n",
    "            mx = this\n",
    "            mxpos = x[i]\n",
    "        if this < mn:\n",
    "            mn = this\n",
    "            mnpos = x[i]\n",
    "        \n",
    "        if lookformax:\n",
    "            if this < mx-delta:\n",
    "                maxtab.append((mxpos, mx))\n",
    "                mn = this\n",
    "                mnpos = x[i]\n",
    "                lookformax = False\n",
    "        else:\n",
    "            if this > mn+delta:\n",
    "                mintab.append((mnpos, mn))\n",
    "                mx = this\n",
    "                mxpos = x[i]\n",
    "                lookformax = True\n",
    "\n",
    "    return array(maxtab), array(mintab)\n",
    "    "
   ]
  },
  {
   "cell_type": "code",
   "execution_count": 2,
   "metadata": {
    "collapsed": false
   },
   "outputs": [],
   "source": [
    "if __name__==\"__main__\":\n",
    "    from matplotlib.pyplot import plot, scatter, show\n",
    "    # series empty array and insert each point into the array\n",
    "    series = []\n",
    "    with open(\"182_test2.csv\") as f:\n",
    "        for line in f:\n",
    "            line = line.strip()[:-1]\n",
    "            line_arr = line.split(\",\")\n",
    "            series.append(float(line_arr[3]))\n",
    "    \n",
    "    # smoothing the time series and making new series out of it.\n",
    "    window = 5.0\n",
    "    half_window = int(mt.floor(window / 2))\n",
    "    new_series = []\n",
    "    \n",
    "    for i in xrange(half_window, len(series) - half_window):\n",
    "        temp = 0\n",
    "        for j in xrange(half_window):\n",
    "            temp += series[i - j]\n",
    "        temp += series[i]\n",
    "        for k in xrange(half_window):\n",
    "            temp += series[i + k]\n",
    "        temp = temp / window\n",
    "        new_series.append(temp)\n",
    "    \n",
    "#     print(new_series)\n",
    "            \n",
    "# #     series = [0,0,0,2,0,0,0,-2,0,0,0,2,0,0,0,-2,0]\n",
    "    # peak detection function call\n",
    "#     maxtab, mintab = peakdet(new_series,.8)\n",
    "#     print(maxtab)\n",
    "# #     print(maxtab.shape)\n",
    "#     plot(new_series)\n",
    "#     scatter(array(maxtab)[:,0], array(maxtab)[:,1], color='black')\n",
    "#     scatter(array(mintab)[:,0], array(mintab)[:,1], color='red')\n",
    "#     show()"
   ]
  },
  {
   "cell_type": "code",
   "execution_count": 9,
   "metadata": {
    "collapsed": false
   },
   "outputs": [
    {
     "name": "stderr",
     "output_type": "stream",
     "text": [
      "/home/deadbacon/anaconda2/lib/python2.7/site-packages/ipykernel/__main__.py:5: FutureWarning: sort is deprecated, use sort_values(inplace=True) for INPLACE sorting\n"
     ]
    }
   ],
   "source": [
    "\n",
    "import pandas as pd\n",
    "\n",
    "s_series = pd.Series(new_series)\n",
    "s_series.sort(ascending=False)\n",
    "# print(len(s_series))\n",
    "\n",
    "twenty_percent = int(len(s_series) * 0.05)\n",
    "# print(twenty_percent)\n",
    "new_s_series = s_series[0:twenty_percent]\n",
    "\n",
    "\n",
    "def is_below(x, thres):\n",
    "    if x > thres:\n",
    "        return x\n",
    "    return thres\n",
    "\n",
    "s_series = s_series.apply(is_below, args=(new_s_series.min(),))\n",
    "s_series = s_series.sort_index()\n",
    "plot(s_series)\n",
    "show()"
   ]
  },
  {
   "cell_type": "code",
   "execution_count": 44,
   "metadata": {
    "collapsed": false
   },
   "outputs": [],
   "source": [
    "# print(s_series)"
   ]
  },
  {
   "cell_type": "code",
   "execution_count": null,
   "metadata": {
    "collapsed": true
   },
   "outputs": [],
   "source": []
  }
 ],
 "metadata": {
  "kernelspec": {
   "display_name": "Python 2",
   "language": "python",
   "name": "python2"
  },
  "language_info": {
   "codemirror_mode": {
    "name": "ipython",
    "version": 2
   },
   "file_extension": ".py",
   "mimetype": "text/x-python",
   "name": "python",
   "nbconvert_exporter": "python",
   "pygments_lexer": "ipython2",
   "version": "2.7.11"
  }
 },
 "nbformat": 4,
 "nbformat_minor": 0
}
